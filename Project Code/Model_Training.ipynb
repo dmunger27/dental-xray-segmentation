{
  "nbformat": 4,
  "nbformat_minor": 0,
  "metadata": {
    "colab": {
      "name": "Model Training.ipynb",
      "provenance": [],
      "collapsed_sections": [],
      "machine_shape": "hm"
    },
    "kernelspec": {
      "name": "python3",
      "display_name": "Python 3"
    },
    "language_info": {
      "name": "python"
    },
    "accelerator": "GPU",
    "gpuClass": "standard"
  },
  "cells": [
    {
      "cell_type": "markdown",
      "source": [
        "# Model Training and Evaluation\n",
        "\n",
        "* [Data Loading and Final Preparation](#data-loading)\n",
        "* [Model Setup](#model-setup)\n",
        "* [Teeth Model](#teeth-model)\n",
        "* [Abnormality Model](#abnormality-model)\n"
      ],
      "metadata": {
        "id": "wbCCzlJ7WcNq"
      }
    },
    {
      "cell_type": "code",
      "source": [
        "#!pip install cloudpathlib\n",
        "#!pip install boto3\n",
        "#!pip install tensorflow\n",
        "#!pip install pillow\n",
        "#!pip install opencv-python\n",
        "#!pip install focal_loss\n",
        "#!pip install albumentations"
      ],
      "metadata": {
        "id": "bwelTz_0CtDg"
      },
      "execution_count": null,
      "outputs": []
    },
    {
      "cell_type": "code",
      "source": [
        "# Load the required libraries\n",
        "import os\n",
        "import shutil\n",
        "import pandas as pd\n",
        "import numpy as np\n",
        "from cloudpathlib import CloudPath\n",
        "from cloudpathlib import S3Client\n",
        "from cloudpathlib import S3Path\n",
        "import matplotlib.pyplot as plt\n",
        "import boto3\n",
        "import glob\n",
        "import PIL\n",
        "from tensorflow import keras\n",
        "import tensorflow as tf\n",
        "from tensorflow.keras import layers\n",
        "from tensorflow.keras.utils import load_img, img_to_array, array_to_img\n",
        "from sklearn.model_selection import train_test_split\n",
        "import albumentations as A\n",
        "import random\n",
        "from keras import backend as K\n",
        "from keras.constraints import max_norm\n"
      ],
      "metadata": {
        "id": "DE3TmI6kClTq"
      },
      "execution_count": null,
      "outputs": []
    },
    {
      "cell_type": "code",
      "source": [
        "# Set environment variables\n",
        "key_data = pd.read_csv('rootkey.csv')\n",
        "#os.environ['AWS_ACCESS_KEY'] = ''\n",
        "#os.environ['AWS_SECRET_KEY'] = ''"
      ],
      "metadata": {
        "id": "Ne1HQcgPCwWu"
      },
      "execution_count": null,
      "outputs": []
    },
    {
      "cell_type": "markdown",
      "source": [
        "<a name=\"data-loading\"></a>\n",
        "## Data Loading and Final Preparation"
      ],
      "metadata": {
        "id": "bWNI61tb-Lmz"
      }
    },
    {
      "cell_type": "code",
      "source": [
        "# Create files in local storage for x-ray data after pulling data from S3 folder\n",
        "\n",
        "def gatherS3Data(s3_path, folder_name):\n",
        "  s3_client = S3Client(aws_access_key_id=os.getenv('AWS_ACCESS_KEY'), aws_secret_access_key=os.getenv('AWS_SECRET_KEY'))\n",
        "  x_rays_images = s3_client.CloudPath(s3_path)\n",
        "  x_rays_images.download_to(folder_name)\n",
        "\n",
        "gatherS3Data('s3://ads-599-capstone-data/ads-599-team7/cleaned_abnormalities/', 'abnormality_masks')\n",
        "gatherS3Data('s3://ads-599-capstone-data/ads-599-team7/cleaned_original/', 'original_images')\n",
        "gatherS3Data('s3://ads-599-capstone-data/ads-599-team7/cleaned_teeth/', 'teeth_masks')"
      ],
      "metadata": {
        "id": "KV9GqGW2Cy3B"
      },
      "execution_count": null,
      "outputs": []
    },
    {
      "cell_type": "code",
      "source": [
        "# Load and prepare the data\n",
        "img_size = (256, 256) # Set the image size\n",
        "# When loading data, specify directory, dimensions (3 or 1), the datatype, and the color mode\n",
        "def load_prep(directory, dim, dtype, color_mode):\n",
        "  data = sorted(glob.glob(directory + '/*'))\n",
        "  num_imgs = len(data)\n",
        "  img_size = (256, 256)\n",
        "  model_imgs = np.zeros((num_imgs,) + img_size + (dim,), dtype=dtype) # Array to copy the data into\n",
        "  for i in range(num_imgs):\n",
        "    if color_mode=='grayscale': # Load masks as grayscale\n",
        "      img = load_img(data[i], color_mode=color_mode, target_size=img_size)\n",
        "      img = img.crop((30, 50, 230, 220)) # Crop images \n",
        "      img = img.resize((256, 256)) # Resize images\n",
        "      model_imgs[i] = img_to_array(img) > 100 # Filter values in the array\n",
        "      model_imgs[i] = model_imgs[i].astype('uint8')\n",
        "    else: # Load radiographs as rgb\n",
        "      img = load_img(data[i], color_mode=color_mode, target_size=img_size)\n",
        "      img = img.crop((30, 50, 230, 220)) # Crop images\n",
        "      img = img.resize((256, 256)) # Resizse images\n",
        "      model_imgs[i] = img_to_array(img)\n",
        "  return model_imgs\n",
        "\n",
        "# Load the original, teeth, and abnormality images\n",
        "original = load_prep('original_images', 3, 'float32', 'rgb')\n",
        "teeth = load_prep('teeth_masks', 1, 'uint8', 'grayscale')\n",
        "abnormality = load_prep('abnormality_masks', 1, 'uint8', 'grayscale')"
      ],
      "metadata": {
        "id": "bw0It3ZCOnxL"
      },
      "execution_count": null,
      "outputs": []
    },
    {
      "cell_type": "code",
      "source": [
        "# Filter abnormalities to include only visible masks\n",
        "def subset_abnormalities(ab_list):\n",
        "  filtered = []\n",
        "  for i in range(len(ab_list)):\n",
        "    if np.sum(ab_list[i]) > 0:\n",
        "      filtered.append(i)\n",
        "  return filtered\n",
        "\n",
        "# Use the index to create filtered abnormality list and original list\n",
        "subset_list = subset_abnormalities(abnormality)\n",
        "ab_subset = [abnormality[i] for i in subset_list]\n",
        "orig_subset = [original[i] for i in subset_list]\n",
        "num_imgs = len(subset_list)\n",
        "img_size = (256, 256)\n",
        "ab_subset_imgs = np.zeros((num_imgs,) + img_size + (1,), dtype='uint8')\n",
        "orig_subset_imgs = np.zeros((num_imgs,) + img_size + (3,), dtype='float32')\n",
        "# Read images in to arrays\n",
        "for i in range(num_imgs):\n",
        "  ab_subset_imgs[i] = ab_subset[i]\n",
        "  orig_subset_imgs[i] = orig_subset[i]"
      ],
      "metadata": {
        "id": "W0at7VgQZG8x"
      },
      "execution_count": null,
      "outputs": []
    },
    {
      "cell_type": "code",
      "source": [
        "# Add new observations using augmentations\n",
        "# Set augmentations\n",
        "distort = A.GridDistortion(p=1)\n",
        "elastic_trans = A.ElasticTransform(p=1)\n",
        "hflip = A.HorizontalFlip(p=1)\n",
        "aflip = A.VerticalFlip(p=1)\n",
        "transpose = A.Transpose(p=1)\n",
        "r90 = A.RandomRotate90(p=1)\n",
        "\n",
        "augmentation_list = [distort, elastic_trans, hflip, aflip, transpose, r90]\n",
        "\n",
        "# Apply transformations to each image in the original and abnormality dataset\n",
        "def transform_and_create(originals, abnormalities, augmentation):\n",
        "  img_size = (256,256)\n",
        "  ab_aug = np.zeros((num_imgs,) + img_size + (1,), dtype='uint8')\n",
        "  orig_aug = np.zeros((num_imgs,) + img_size + (3,), dtype='float32')\n",
        "  for i in range(num_imgs):\n",
        "    augmented = augmentation(image=originals[i], mask=abnormalities[i])\n",
        "    image_aug = augmented['image']\n",
        "    mask_aug = augmented['mask']\n",
        "    ab_aug[i] = mask_aug\n",
        "    orig_aug[i] = image_aug \n",
        "\n",
        "  return ab_aug, orig_aug\n",
        "\n",
        "# Join the transformations to the original dataset\n",
        "def append_transform(augmentation_list):\n",
        "  original_list = [orig_subset_imgs]\n",
        "  ab_list = [ab_subset_imgs]\n",
        "  for i in augmentation_list:\n",
        "    aug_abnormality, aug_original = transform_and_create(orig_subset_imgs, ab_subset_imgs, i)\n",
        "    original_list.append(aug_original)\n",
        "    ab_list.append(aug_abnormality)\n",
        "  originals = np.concatenate(original_list, axis=0)\n",
        "  abs = np.concatenate(ab_list, axis=0)\n",
        "\n",
        "  return originals, abs\n",
        "\n",
        "\n",
        "orig_subset_imgs, ab_subset_imgs = append_transform(augmentation_list)"
      ],
      "metadata": {
        "id": "vKvgGFIgSAq7"
      },
      "execution_count": null,
      "outputs": []
    },
    {
      "cell_type": "code",
      "execution_count": null,
      "metadata": {
        "id": "Og4rpc99CThx"
      },
      "outputs": [],
      "source": [
        "# Train-test-valid split of data\n",
        "def train_valid_test(array_name, test_size=0.1, val_size=0.1, random_state=27):\n",
        "  train, test = train_test_split(array_name, test_size=test_size, random_state=random_state)\n",
        "  # Train test split again to obtain validation set\n",
        "  train, val = train_test_split(train, test_size=val_size, random_state=random_state)\n",
        "  return train, val, test\n",
        "\n",
        "\n",
        "train_orig, val_orig, test_orig = train_valid_test(original, 0.1, 0.3, 127)\n",
        "train_teeth, val_teeth, test_teeth = train_valid_test(teeth, 0.1, 0.3, 127)\n",
        "train_ab, val_ab, test_ab = train_valid_test(ab_subset_imgs, 0.1, 0.3, 127)\n",
        "\n",
        "# Subset train and valid\n",
        "sub_train_orig, sub_val_orig, sub_test_orig = train_valid_test(orig_subset_imgs, 0.1, 0.3, 127)"
      ]
    },
    {
      "cell_type": "markdown",
      "source": [
        "<a name=\"model-setup\"></a>\n",
        "## Model Setup"
      ],
      "metadata": {
        "id": "SfzBncgl-U7G"
      }
    },
    {
      "cell_type": "code",
      "source": [
        "# Create up-block function (for the decoder layer)\n",
        "def up_block(neurons, concat_layer, input, kernel_constraint=None, bias_constraint=None):\n",
        "  up = layers.Conv2DTranspose(neurons, (2,2), strides=(2,2), activation='relu', kernel_initializer='he_normal', padding='same')(input)\n",
        "  up = layers.concatenate([up, concat_layer])\n",
        "  conv = layers.Conv2D(neurons, (3,3), activation='relu', kernel_initializer='he_normal', padding='same', kernel_constraint=kernel_constraint, bias_constraint=bias_constraint)(up)\n",
        "  conv = layers.Conv2D(neurons, (3,3), activation='relu', kernel_initializer='he_normal', padding='same', kernel_constraint=kernel_constraint, bias_constraint=bias_constraint)(conv)\n",
        "  conv = layers.BatchNormalization()(conv)\n",
        "  return conv"
      ],
      "metadata": {
        "id": "N55PHoblUe5E"
      },
      "execution_count": null,
      "outputs": []
    },
    {
      "cell_type": "code",
      "source": [
        "# Clear session as needed\n",
        "keras.backend.clear_session()\n",
        "# Create the encoder model as a ResNet50v2 - rescale input before feeding into encoder\n",
        "inputs = keras.Input(shape=(256,256) + (3,))\n",
        "x = layers.Rescaling(1./255)(inputs)\n",
        "base = keras.applications.ResNet50V2(\n",
        "      include_top=False,\n",
        "      weights=\"imagenet\",\n",
        "      input_shape=(256,256) + (3,),\n",
        "      input_tensor=x\n",
        "  )\n",
        "base.trainable = False"
      ],
      "metadata": {
        "id": "OwgUJRM7KxLP"
      },
      "execution_count": null,
      "outputs": []
    },
    {
      "cell_type": "markdown",
      "source": [
        "<a name=\"teeth-model\"></a>\n",
        "## Teeth Model"
      ],
      "metadata": {
        "id": "wnQ7cfhO-F81"
      }
    },
    {
      "cell_type": "code",
      "source": [
        "# Set up functions to calculate Focal Tversky Loss \n",
        "# Calculate tversky\n",
        "def tversky(y_true, y_pred, smooth=1, alpha=0.7):\n",
        "    y_true_pos = K.flatten(y_true)\n",
        "    y_pred_pos = K.flatten(y_pred)\n",
        "    true_pos = K.sum(y_true_pos * y_pred_pos)\n",
        "    false_neg = K.sum(y_true_pos * (1 - y_pred_pos))\n",
        "    false_pos = K.sum((1 - y_true_pos) * y_pred_pos)\n",
        "    tversky = (true_pos + smooth) / (true_pos + alpha * false_neg + (1 - alpha) * false_pos + smooth)\n",
        "    return tversky\n",
        "\n",
        "# Tversky loss calculation\n",
        "def tversky_loss(y_true, y_pred):\n",
        "    tversky_loss = 1 - tversky(y_true, y_pred)\n",
        "    return \n",
        "\n",
        "# Focal tversky loss calculation\n",
        "def focal_tversky_loss(y_true, y_pred, gamma=0.75):\n",
        "    tv = tversky(y_true, y_pred)\n",
        "    focal_tv_loss = K.pow((1 - tv), gamma)\n",
        "    return focal_tv_loss"
      ],
      "metadata": {
        "id": "2UxFo0s7APv2"
      },
      "execution_count": null,
      "outputs": []
    },
    {
      "cell_type": "code",
      "source": [
        "#  Function for U-Net model - currently configured for abnormality model, to configure for teeth remove kernel and bias constraints\n",
        "def unet_model(dropout):\n",
        "  # Extract decoder path\n",
        "  down0 = base.get_layer('input_1').output\n",
        "  down1 = base.get_layer('conv1_conv').output\n",
        "  down2 = base.get_layer('conv2_block3_1_relu').output\n",
        "  down3 = base.get_layer('conv3_block4_1_relu').output\n",
        "  x = base.get_layer('conv4_block6_1_relu').output \n",
        "  # Set up encoder path\n",
        "  conv6 = up_block(512, down3, x, max_norm(3), max_norm(3))\n",
        "  layers.Dropout(dropout)(conv6)\n",
        "  conv7 = up_block(256, down2, conv6, max_norm(3), max_norm(3))\n",
        "  layers.Dropout(dropout)(conv7)\n",
        "  conv8 = up_block(128, down1, conv7, max_norm(3), max_norm(3))\n",
        "  layers.Dropout(dropout)(conv8)\n",
        "  conv9 = up_block(64, down0, conv8, max_norm(3), max_norm(3))\n",
        "  layers.Dropout(dropout)(conv9)\n",
        "  # Output layer with sigmoid activation\n",
        "  outputs = layers.Conv2D(1, 1, activation='sigmoid', padding='same')(conv9)\n",
        "\n",
        "  model = keras.Model(inputs, outputs)\n",
        "  return model"
      ],
      "metadata": {
        "id": "Tc-HtaJPEXOp"
      },
      "execution_count": null,
      "outputs": []
    },
    {
      "cell_type": "code",
      "source": [
        "# Get model structure and print the summary\n",
        "model = unet_model(0.5)\n",
        "#model.summary()"
      ],
      "metadata": {
        "id": "yJNKCKvyL4Wx"
      },
      "execution_count": null,
      "outputs": []
    },
    {
      "cell_type": "code",
      "source": [
        "# Compile and train the model for tooth detection - run first without the base model updating weights, then decrease learning rate to 0.000001 and train base\n",
        "#keras.backend.clear_session()\n",
        "#base.trainable = True\n",
        "opt = keras.optimizers.Adam(learning_rate=0.001)\n",
        "model.compile(optimizer=opt, loss=focal_tversky_loss, metrics=[keras.metrics.Precision(), keras.metrics.Recall(), keras.metrics.MeanIoU(num_classes=2)])\n",
        "# Save best model and stop training if no improvements in validation loss occur over 10 epochs\n",
        "callback = [\n",
        "    keras.callbacks.ModelCheckpoint(\"teeth_segmentation.keras\", \n",
        "                                    save_best_only=True),\n",
        "    keras.callbacks.EarlyStopping(monitor=\"val_loss\",\n",
        "                                  patience=10)\n",
        "]\n",
        "\n",
        "teeth_model = model.fit(train_orig, tf.cast(train_teeth, 'float32'),\n",
        "                        epochs=64,\n",
        "                        callbacks=callback,\n",
        "                        batch_size=32,\n",
        "                        validation_data=(val_orig, tf.cast(val_teeth, 'float32')))"
      ],
      "metadata": {
        "id": "yIipWw2eHnOT"
      },
      "execution_count": null,
      "outputs": []
    },
    {
      "cell_type": "code",
      "source": [
        "# Plot the loss of the model\n",
        "loss = teeth_model.history['loss']\n",
        "val_loss = teeth_model.history['val_loss']\n",
        "\n",
        "plt.figure()\n",
        "plt.plot(teeth_model.epoch, loss, label='Training loss')\n",
        "plt.plot(teeth_model.epoch, val_loss, label='Validation loss')\n",
        "plt.title('Training and Validation Loss')\n",
        "plt.xlabel('Epoch')\n",
        "plt.ylabel('Loss Value')\n",
        "plt.ylim([0, 1])\n",
        "plt.legend()\n",
        "plt.show()"
      ],
      "metadata": {
        "colab": {
          "base_uri": "https://localhost:8080/",
          "height": 295
        },
        "id": "RIZ6n4wZIkaY",
        "outputId": "6d55079b-dc1d-466f-daa5-146489f54ff9"
      },
      "execution_count": null,
      "outputs": [
        {
          "output_type": "display_data",
          "data": {
            "text/plain": [
              "<Figure size 432x288 with 1 Axes>"
            ],
            "image/png": "[encoded data removed]"
          },
          "metadata": {
            "needs_background": "light"
          }
        }
      ]
    },
    {
      "cell_type": "code",
      "source": [
        "# Evaluate model performance on the test set after loading the model\n",
        "teeth_model = keras.models.load_model('teeth_segmentation.keras', custom_objects={'focal_tversky_loss': focal_tversky_loss})\n",
        "test_teeth_model = teeth_model.evaluate(test_orig, tf.cast(test_teeth, 'float32'))"
      ],
      "metadata": {
        "id": "x8M-OQVJJWw-"
      },
      "execution_count": null,
      "outputs": []
    },
    {
      "cell_type": "code",
      "source": [
        "# Save model as .h5 file for use in web application\n",
        "teeth_model.save('teeth_segmentation.h5', save_format='h5')"
      ],
      "metadata": {
        "id": "NcqvpLq7VUih"
      },
      "execution_count": null,
      "outputs": []
    },
    {
      "cell_type": "code",
      "source": [
        "# Show predicted mask\n",
        "array_to_img(teeth_model.predict(test_orig)[0])"
      ],
      "metadata": {
        "colab": {
          "base_uri": "https://localhost:8080/",
          "height": 273
        },
        "id": "5b58OAicqqep",
        "outputId": "cc0752d3-ad35-42c2-9be3-144287bf5e43"
      },
      "execution_count": null,
      "outputs": [
        {
          "output_type": "execute_result",
          "data": {
            "text/plain": [
              "<PIL.Image.Image image mode=L size=256x256 at 0x7FF4E83B1E50>"
            ],
            "image/png": "[encoded data removed]"
          },
          "metadata": {},
          "execution_count": 25
        }
      ]
    },
    {
      "cell_type": "code",
      "source": [
        "# Show original mask\n",
        "array_to_img(test_teeth[0])"
      ],
      "metadata": {
        "colab": {
          "base_uri": "https://localhost:8080/",
          "height": 273
        },
        "id": "VirufCOIq32o",
        "outputId": "015a6093-0356-45ae-9b61-b2f92b132c3b"
      },
      "execution_count": null,
      "outputs": [
        {
          "output_type": "execute_result",
          "data": {
            "text/plain": [
              "<PIL.Image.Image image mode=L size=256x256 at 0x7FF4E83A5A10>"
            ],
            "image/png": "[encoded data removed]"
          },
          "metadata": {},
          "execution_count": 26
        }
      ]
    },
    {
      "cell_type": "markdown",
      "source": [
        "<a name=\"abnormality-model\"></a>\n",
        "## Abnormality Model"
      ],
      "metadata": {
        "id": "HmxQG_Qq9-Xi"
      }
    },
    {
      "cell_type": "code",
      "source": [
        "#base.trainable = True - set to true after first round of training with learning rate of 0.001, then set to 0.000001 and run with base.trainable = True\n",
        "#keras.backend.clear_session()\n",
        "# Save best model\n",
        "callback = [\n",
        "    keras.callbacks.ModelCheckpoint(\"abnormality_segmentation.keras\", \n",
        "                                    save_best_only=True),\n",
        "    keras.callbacks.EarlyStopping(monitor=\"val_loss\",\n",
        "                                  patience=10)\n",
        "]\n",
        "opt = keras.optimizers.Adam(learning_rate=0.001)\n",
        "model.compile(optimizer=opt, loss=focal_tversky_loss, metrics=[keras.metrics.Precision(), keras.metrics.Recall(), keras.metrics.MeanIoU(num_classes=2)])\n",
        "# Fit the model on the abnormality data\n",
        "abnormality_model = model.fit(sub_train_orig, tf.cast(train_ab, 'float32'),\n",
        "                        epochs=64,\n",
        "                        batch_size=32,\n",
        "                        callbacks=callback,\n",
        "                        validation_data=(sub_val_orig, tf.cast(val_ab, 'float32')))"
      ],
      "metadata": {
        "id": "geiZEcFtKbY1"
      },
      "execution_count": null,
      "outputs": []
    },
    {
      "cell_type": "code",
      "source": [
        "# Plot the loss of the model\n",
        "loss = abnormality_model.history['loss']\n",
        "val_loss = abnormality_model.history['val_loss']\n",
        "\n",
        "plt.figure()\n",
        "plt.plot(abnormality_model.epoch, loss, label='Training loss')\n",
        "plt.plot(abnormality_model.epoch, val_loss, label='Validation loss')\n",
        "plt.title('Training and Validation Loss')\n",
        "plt.xlabel('Epoch')\n",
        "plt.ylabel('Loss Value')\n",
        "plt.ylim([0, 1])\n",
        "plt.legend()\n",
        "plt.show()"
      ],
      "metadata": {
        "colab": {
          "base_uri": "https://localhost:8080/",
          "height": 295
        },
        "id": "Dd6tQUu5rGfn",
        "outputId": "45535611-f858-4d72-bc3a-7532ee1e5c83"
      },
      "execution_count": null,
      "outputs": [
        {
          "output_type": "display_data",
          "data": {
            "text/plain": [
              "<Figure size 432x288 with 1 Axes>"
            ],
            "image/png": "[encoded data removed]"
          },
          "metadata": {
            "needs_background": "light"
          }
        }
      ]
    },
    {
      "cell_type": "code",
      "source": [
        "# Evaluate model performance on the test set after loading the model\n",
        "abnormality_model = keras.models.load_model('abnormality_segmentation.keras', custom_objects={'focal_tversky_loss': focal_tversky_loss})\n",
        "test_abnormality_model = abnormality_model.evaluate(sub_test_orig, tf.cast(test_ab, 'float32'))"
      ],
      "metadata": {
        "id": "My_nLg6f12-c"
      },
      "execution_count": null,
      "outputs": []
    },
    {
      "cell_type": "code",
      "source": [
        "# Predicted mask\n",
        "array_to_img(model.predict(sub_test_orig)[10])"
      ],
      "metadata": {
        "colab": {
          "base_uri": "https://localhost:8080/",
          "height": 273
        },
        "id": "oxQj3LUNUEm5",
        "outputId": "788c1cdd-51f9-4670-8c5f-4b8137c5c375"
      },
      "execution_count": null,
      "outputs": [
        {
          "output_type": "execute_result",
          "data": {
            "text/plain": [
              "<PIL.Image.Image image mode=L size=256x256 at 0x7F7A9005B8D0>"
            ],
            "image/png": "[encoded data removed]"
          },
          "metadata": {},
          "execution_count": 23
        }
      ]
    },
    {
      "cell_type": "code",
      "source": [
        "# Actual mask\n",
        "array_to_img(test_ab[10])"
      ],
      "metadata": {
        "colab": {
          "base_uri": "https://localhost:8080/",
          "height": 273
        },
        "id": "2PBcWpOULp4a",
        "outputId": "3866a14e-7755-4888-8e69-6c7c5c6d40a6"
      },
      "execution_count": null,
      "outputs": [
        {
          "output_type": "execute_result",
          "data": {
            "text/plain": [
              "<PIL.Image.Image image mode=L size=256x256 at 0x7F7B1948C450>"
            ],
            "image/png": "[encoded data removed]"
          },
          "metadata": {},
          "execution_count": 24
        }
      ]
    }
  ]
}