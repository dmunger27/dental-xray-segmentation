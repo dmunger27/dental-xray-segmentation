{
  "nbformat": 4,
  "nbformat_minor": 0,
  "metadata": {
    "colab": {
      "name": "Model Training.ipynb",
      "provenance": [],
      "collapsed_sections": [],
      "machine_shape": "hm",
      "include_colab_link": true
    },
    "kernelspec": {
      "name": "python3",
      "display_name": "Python 3"
    },
    "language_info": {
      "name": "python"
    },
    "accelerator": "GPU",
    "gpuClass": "standard"
  },
  "cells": [
    {
      "cell_type": "markdown",
      "metadata": {
        "id": "view-in-github",
        "colab_type": "text"
      },
      "source": [
        "<a href=\"https://colab.research.google.com/github/dmunger27/dental-xray-segmentation/blob/main/Model_Training.ipynb\" target=\"_parent\"><img src=\"https://colab.research.google.com/assets/colab-badge.svg\" alt=\"Open In Colab\"/></a>"
      ]
    },
    {
      "cell_type": "code",
      "source": [
        "!pip install cloudpathlib\n",
        "!pip install boto3\n",
        "!pip install tensorflow\n",
        "!pip install pillow\n",
        "!pip install opencv-python\n",
        "!pip install focal_loss\n",
        "!pip install albumentations"
      ],
      "metadata": {
        "id": "bwelTz_0CtDg"
      },
      "execution_count": null,
      "outputs": []
    },
    {
      "cell_type": "code",
      "source": [
        "import os\n",
        "import shutil\n",
        "import pandas as pd\n",
        "import numpy as np\n",
        "from cloudpathlib import CloudPath\n",
        "from cloudpathlib import S3Client\n",
        "from cloudpathlib import S3Path\n",
        "import matplotlib.pyplot as plt\n",
        "import boto3\n",
        "import glob\n",
        "import PIL\n",
        "from tensorflow import keras\n",
        "import tensorflow as tf\n",
        "from tensorflow.keras import layers\n",
        "from tensorflow.keras.utils import load_img, img_to_array, array_to_img\n",
        "from focal_loss import BinaryFocalLoss\n",
        "from sklearn.model_selection import train_test_split\n",
        "import albumentations as A\n",
        "import random\n",
        "from keras import backend as K\n"
      ],
      "metadata": {
        "id": "DE3TmI6kClTq"
      },
      "execution_count": null,
      "outputs": []
    },
    {
      "cell_type": "code",
      "source": [
        "# Set environment variables\n",
        "key_data = pd.read_csv('rootkey.csv')\n",
        "#os.environ['AWS_ACCESS_KEY'] = ''\n",
        "#os.environ['AWS_SECRET_KEY'] = ''"
      ],
      "metadata": {
        "id": "Ne1HQcgPCwWu"
      },
      "execution_count": null,
      "outputs": []
    },
    {
      "cell_type": "code",
      "source": [
        "# Create files in local storage for x-ray data\n",
        "\n",
        "def gatherS3Data(s3_path, folder_name):\n",
        "  s3_client = S3Client(aws_access_key_id=os.getenv('AWS_ACCESS_KEY'), aws_secret_access_key=os.getenv('AWS_SECRET_KEY'))\n",
        "  x_rays_images = s3_client.CloudPath(s3_path)\n",
        "  x_rays_images.download_to(folder_name)\n",
        "\n",
        "gatherS3Data('s3://ads-599-capstone-data/ads-599-team7/cleaned_abnormalities/', 'abnormality_masks')\n",
        "gatherS3Data('s3://ads-599-capstone-data/ads-599-team7/cleaned_original/', 'original_images')\n",
        "gatherS3Data('s3://ads-599-capstone-data/ads-599-team7/cleaned_teeth/', 'teeth_masks')"
      ],
      "metadata": {
        "id": "KV9GqGW2Cy3B"
      },
      "execution_count": null,
      "outputs": []
    },
    {
      "cell_type": "code",
      "source": [
        "# Load and prepare the data\n",
        "img_size = (256, 256)\n",
        "def load_prep(directory, dim, dtype, color_mode):\n",
        "  data = sorted(glob.glob(directory + '/*'))\n",
        "  num_imgs = len(data)\n",
        "  img_size = (256, 256)\n",
        "  model_imgs = np.zeros((num_imgs,) + img_size + (dim,), dtype=dtype)\n",
        "  for i in range(num_imgs):\n",
        "    if color_mode=='grayscale':\n",
        "      img = load_img(data[i], color_mode=color_mode, target_size=img_size)\n",
        "      img = img.crop((30, 50, 230, 220))\n",
        "      img = img.resize((256, 256))\n",
        "      model_imgs[i] = img_to_array(img) > 100\n",
        "      model_imgs[i] = model_imgs[i].astype('uint8')\n",
        "    else:\n",
        "      img = load_img(data[i], color_mode=color_mode, target_size=img_size)\n",
        "      img = img.crop((30, 50, 230, 220))\n",
        "      img = img.resize((256, 256))\n",
        "      model_imgs[i] = img_to_array(img)\n",
        "  return model_imgs\n",
        "\n",
        "original = load_prep('original_images', 3, 'float32', 'rgb')\n",
        "teeth = load_prep('teeth_masks', 1, 'uint8', 'grayscale')\n",
        "abnormality = load_prep('abnormality_masks', 1, 'uint8', 'grayscale')"
      ],
      "metadata": {
        "id": "bw0It3ZCOnxL"
      },
      "execution_count": null,
      "outputs": []
    },
    {
      "cell_type": "code",
      "source": [
        "# Filter abnormalities to include only visible masks\n",
        "def subset_abnormalities(ab_list):\n",
        "  filtered = []\n",
        "  for i in range(len(ab_list)):\n",
        "    if np.sum(ab_list[i]) > 0:\n",
        "      filtered.append(i)\n",
        "  return filtered\n",
        "\n",
        "subset_list = subset_abnormalities(abnormality)\n",
        "ab_subset = [abnormality[i] for i in subset_list]\n",
        "orig_subset = [original[i] for i in subset_list]\n",
        "num_imgs = len(subset_list)\n",
        "img_size = (256, 256)\n",
        "ab_subset_imgs = np.zeros((num_imgs,) + img_size + (1,), dtype='uint8')\n",
        "orig_subset_imgs = np.zeros((num_imgs,) + img_size + (3,), dtype='float32')\n",
        "for i in range(num_imgs):\n",
        "  ab_subset_imgs[i] = ab_subset[i]\n",
        "  orig_subset_imgs[i] = orig_subset[i]"
      ],
      "metadata": {
        "id": "W0at7VgQZG8x"
      },
      "execution_count": null,
      "outputs": []
    },
    {
      "cell_type": "code",
      "source": [
        "# Add new observations using augmentations\n",
        "# Set augmentations\n",
        "distort = A.GridDistortion(p=1)\n",
        "elastic_trans = A.ElasticTransform(p=1)\n",
        "hflip = A.HorizontalFlip(p=1)\n",
        "aflip = A.VerticalFlip(p=1)\n",
        "transpose = A.Transpose(p=1)\n",
        "\n",
        "augmentation_list = [distort, elastic_trans, hflip, aflip, transpose]\n",
        "\n",
        "# Apply transformation and append to original dataset\n",
        "def transform_and_create(originals, abnormalities, augmentation):\n",
        "  img_size = (256,256)\n",
        "  ab_aug = np.zeros((num_imgs,) + img_size + (1,), dtype='uint8')\n",
        "  orig_aug = np.zeros((num_imgs,) + img_size + (3,), dtype='float32')\n",
        "  for i in range(num_imgs):\n",
        "    augmented = augmentation(image=originals[i], mask=abnormalities[i])\n",
        "    image_aug = augmented['image']\n",
        "    mask_aug = augmented['mask']\n",
        "    ab_aug[i] = mask_aug\n",
        "    orig_aug[i] = image_aug \n",
        "\n",
        "  return ab_aug, orig_aug\n",
        "\n",
        "def append_transform(augmentation_list):\n",
        "  original_list = [orig_subset_imgs]\n",
        "  ab_list = [ab_subset_imgs]\n",
        "  for i in augmentation_list:\n",
        "    aug_abnormality, aug_original = transform_and_create(orig_subset_imgs, ab_subset_imgs, i)\n",
        "    original_list.append(aug_original)\n",
        "    ab_list.append(aug_abnormality)\n",
        "  originals = np.concatenate(original_list, axis=0)\n",
        "  abs = np.concatenate(ab_list, axis=0)\n",
        "\n",
        "  return originals, abs\n",
        "\n",
        "\n",
        "orig_subset_imgs, ab_subset_imgs = append_transform(augmentation_list)"
      ],
      "metadata": {
        "id": "vKvgGFIgSAq7"
      },
      "execution_count": null,
      "outputs": []
    },
    {
      "cell_type": "code",
      "execution_count": null,
      "metadata": {
        "id": "Og4rpc99CThx"
      },
      "outputs": [],
      "source": [
        "# Train-test-valid split of data\n",
        "def train_valid_test(array_name):\n",
        "  train, test = train_test_split(array_name, test_size=0.1, random_state=27)\n",
        "  # Train test split again to obtain validation set\n",
        "  train, val = train_test_split(train, test_size=0.1, random_state=27)\n",
        "  return train, val, test\n",
        "\n",
        "\n",
        "train_orig, val_orig, test_orig = train_valid_test(original)\n",
        "train_teeth, val_teeth, test_teeth = train_valid_test(teeth)\n",
        "train_ab, val_ab, test_ab = train_valid_test(ab_subset_imgs)\n",
        "\n",
        "# Subset train and valid\n",
        "sub_train_orig, sub_val_orig, sub_test_orig = train_valid_test(orig_subset_imgs)"
      ]
    },
    {
      "cell_type": "code",
      "source": [
        "# Create up block function\n",
        "def up_block(neurons, concat_layer, input):\n",
        "  up = layers.Conv2DTranspose(neurons, (2,2), strides=(2,2), activation='relu', padding='same')(input)\n",
        "  up = layers.concatenate([up, concat_layer])\n",
        "  conv = layers.Conv2D(neurons, (3,3), activation='relu', kernel_initializer='he_normal', padding='same')(up)\n",
        "  conv = layers.Conv2D(neurons, (3,3), activation='relu', kernel_initializer='he_normal', padding='same')(conv)\n",
        "  conv = layers.BatchNormalization()(conv)\n",
        "  return conv"
      ],
      "metadata": {
        "id": "N55PHoblUe5E"
      },
      "execution_count": null,
      "outputs": []
    },
    {
      "cell_type": "code",
      "source": [
        "keras.backend.clear_session()\n",
        "# Base model\n",
        "inputs = keras.Input(shape=(256,256) + (3,))\n",
        "x = layers.Rescaling(1./255)(inputs)\n",
        "base = keras.applications.ResNet50V2(\n",
        "      include_top=False,\n",
        "      weights=\"imagenet\",\n",
        "      input_shape=(256,256) + (3,),\n",
        "      input_tensor=x\n",
        "  )\n",
        "base.trainable = False"
      ],
      "metadata": {
        "colab": {
          "base_uri": "https://localhost:8080/"
        },
        "id": "OwgUJRM7KxLP",
        "outputId": "01c17276-44d5-40c8-e80f-b1fae3f4f29c"
      },
      "execution_count": null,
      "outputs": [
        {
          "output_type": "stream",
          "name": "stdout",
          "text": [
            "Downloading data from https://storage.googleapis.com/tensorflow/keras-applications/resnet/resnet50v2_weights_tf_dim_ordering_tf_kernels_notop.h5\n",
            "94674944/94668760 [==============================] - 1s 0us/step\n",
            "94683136/94668760 [==============================] - 1s 0us/step\n"
          ]
        }
      ]
    },
    {
      "cell_type": "code",
      "source": [
        "#  Function for U-Net model\n",
        "def unet_model():\n",
        "  # Extract decoder path\n",
        "  down0 = base.get_layer('input_1').output\n",
        "  down1 = base.get_layer('conv1_conv').output\n",
        "  down2 = base.get_layer('conv2_block3_1_relu').output\n",
        "  down3 = base.get_layer('conv3_block4_1_relu').output\n",
        "  x = base.get_layer('conv4_block6_1_relu').output \n",
        "  conv6 = up_block(512, down3, x)\n",
        "  conv7 = up_block(256, down2, conv6)\n",
        "  conv8 = up_block(128, down1, conv7)\n",
        "  conv9 = up_block(64, down0, conv8)\n",
        "  outputs = layers.Conv2D(1, 1, activation='sigmoid', padding='same')(conv9)\n",
        "\n",
        "  model = keras.Model(inputs, outputs)\n",
        "  return model"
      ],
      "metadata": {
        "id": "Tc-HtaJPEXOp"
      },
      "execution_count": null,
      "outputs": []
    },
    {
      "cell_type": "code",
      "source": [
        "# Get model structure and print the summary\n",
        "model = unet_model()\n",
        "#model.summary()"
      ],
      "metadata": {
        "id": "yJNKCKvyL4Wx"
      },
      "execution_count": null,
      "outputs": []
    },
    {
      "cell_type": "code",
      "source": [
        "# Compile and train the model for tooth detection\n",
        "keras.backend.clear_session()\n",
        "#base.trainable = True\n",
        "opt = keras.optimizers.Adam(learning_rate=0.001)\n",
        "model.compile(optimizer=opt, loss=BinaryFocalLoss(gamma=2, pos_weight=30, from_logits=True), metrics=[keras.metrics.Precision(), keras.metrics.Recall(), keras.metrics.MeanIoU(num_classes=2)])\n",
        "# Save best model\n",
        "callback = [\n",
        "    keras.callbacks.ModelCheckpoint(\"teeth_segmentation.keras\", \n",
        "                                    save_best_only=True)\n",
        "]\n",
        "\n",
        "teeth_model = model.fit(train_orig, train_teeth,\n",
        "                        epochs=64,\n",
        "                        callbacks=callback,\n",
        "                        batch_size=32,\n",
        "                        validation_data=(val_orig, val_teeth))"
      ],
      "metadata": {
        "id": "yIipWw2eHnOT"
      },
      "execution_count": null,
      "outputs": []
    },
    {
      "cell_type": "code",
      "source": [
        "# Plot the loss of the model\n",
        "loss = teeth_model.history['loss']\n",
        "val_loss = teeth_model.history['val_loss']\n",
        "\n",
        "plt.figure()\n",
        "plt.plot(teeth_model.epoch, loss, label='Training loss')\n",
        "plt.plot(teeth_model.epoch, val_loss, label='Validation loss')\n",
        "plt.title('Training and Validation Loss')\n",
        "plt.xlabel('Epoch')\n",
        "plt.ylabel('Loss Value')\n",
        "plt.ylim([0, 1])\n",
        "plt.legend()\n",
        "plt.show()"
      ],
      "metadata": {
        "colab": {
          "base_uri": "https://localhost:8080/",
          "height": 295
        },
        "id": "RIZ6n4wZIkaY",
        "outputId": "21ee5c56-78fd-42cd-c1d9-6db0e12f7a8f"
      },
      "execution_count": null,
      "outputs": [
        {
          "output_type": "display_data",
          "data": {
            "text/plain": [
              "<Figure size 432x288 with 1 Axes>"
            ],
            "image/png": "[encoded data removed]"
          },
          "metadata": {
            "needs_background": "light"
          }
        }
      ]
    },
    {
      "cell_type": "code",
      "source": [
        "# Evaluate model performance on the test set\n",
        "test_teeth_model = model.evaluate(test_orig, test_teeth)"
      ],
      "metadata": {
        "colab": {
          "base_uri": "https://localhost:8080/"
        },
        "id": "x8M-OQVJJWw-",
        "outputId": "c4b515b1-722b-460f-aaf8-d21020b7ad19"
      },
      "execution_count": null,
      "outputs": [
        {
          "output_type": "stream",
          "name": "stdout",
          "text": [
            "4/4 [==============================] - 1s 150ms/step - loss: 0.3849 - precision_1: 0.8963 - recall_1: 0.9185 - mean_io_u_1: 0.8301\n"
          ]
        }
      ]
    },
    {
      "cell_type": "code",
      "source": [
        "def unet_model():\n",
        "  # Extract decoder path\n",
        "  down0 = base.get_layer('input_1').output\n",
        "  down1 = base.get_layer('conv1_conv').output\n",
        "  down2 = base.get_layer('conv2_block3_1_relu').output\n",
        "  down3 = base.get_layer('conv3_block4_1_relu').output\n",
        "  x = base.get_layer('conv4_block6_1_relu').output \n",
        "  conv6 = up_block(256, down3, x)\n",
        "  layers.Dropout(0.5)(conv6)\n",
        "  conv7 = up_block(128, down2, conv6)\n",
        "  layers.Dropout(0.5)(conv7)\n",
        "  conv8 = up_block(64, down1, conv7)\n",
        "  layers.Dropout(0.5)(conv8)\n",
        "  conv9 = up_block(32, down0, conv8)\n",
        "  layers.Dropout(0.5)(conv9)\n",
        "  outputs = layers.Conv2D(1, 1, activation='sigmoid', padding='same')(conv9)\n",
        "\n",
        "  model = keras.Model(inputs, outputs)\n",
        "  return model\n",
        "\n",
        "# Model object for abnormality detection\n",
        "model_ab = unet_model()"
      ],
      "metadata": {
        "id": "geiZEcFtKbY1"
      },
      "execution_count": null,
      "outputs": []
    },
    {
      "cell_type": "code",
      "source": [
        "def dice_coef(y_true, y_pred, smooth=1):\n",
        "    y_true_f = K.flatten(y_true)\n",
        "    y_pred_f = K.flatten(y_pred)\n",
        "    intersection = K.sum(y_true_f * y_pred_f)\n",
        "    dice_coef = (2. * intersection + smooth) / (K.sum(y_true_f) + K.sum(y_pred_f) + smooth)\n",
        "    return dice_coef\n",
        "\n",
        "\n",
        "def dice_coef_loss(y_true, y_pred):\n",
        "    loss = 1 - dice_coef(y_true, y_pred)\n",
        "    return loss\n",
        "\n",
        "\n",
        "def tversky(y_true, y_pred, smooth=1, alpha=0.7):\n",
        "    y_true_pos = K.flatten(y_true)\n",
        "    y_pred_pos = K.flatten(y_pred)\n",
        "    true_pos = K.sum(y_true_pos * y_pred_pos)\n",
        "    false_neg = K.sum(y_true_pos * (1 - y_pred_pos))\n",
        "    false_pos = K.sum((1 - y_true_pos) * y_pred_pos)\n",
        "    tversky = (true_pos + smooth) / (true_pos + alpha * false_neg + (1 - alpha) * false_pos + smooth)\n",
        "    return tversky\n",
        "\n",
        "\n",
        "def tversky_loss(y_true, y_pred):\n",
        "    tversky_loss = 1 - tversky(y_true, y_pred)\n",
        "    return \n",
        "\n",
        "\n",
        "def focal_tversky_loss(y_true, y_pred, gamma=0.75):\n",
        "    tv = tversky(y_true, y_pred)\n",
        "    focal_tv_loss = K.pow((1 - tv), gamma)\n",
        "    return focal_tv_loss"
      ],
      "metadata": {
        "id": "NpxFzobYljN3"
      },
      "execution_count": null,
      "outputs": []
    },
    {
      "cell_type": "code",
      "source": [
        "# Compile and train the model for tooth detection\n",
        "keras.backend.clear_session()\n",
        "#base.trainable = True\n",
        "\n",
        "opt = keras.optimizers.Adam(learning_rate=0.0001)\n",
        "model_ab.compile(optimizer=opt, loss=focal_tversky_loss, metrics=[keras.metrics.Precision(), keras.metrics.Recall(), keras.metrics.MeanIoU(num_classes=2)])\n",
        "# Save best model\n",
        "callback = [\n",
        "    keras.callbacks.ModelCheckpoint(\"abnormality_segmentation.keras\", \n",
        "                                    save_best_only=True)\n",
        "]\n",
        "\n",
        "# Fit the model\n",
        "ab_model = model_ab.fit(sub_train_orig, tf.cast(train_ab, 'float32'),\n",
        "                        epochs=64,\n",
        "                        batch_size=32,\n",
        "                        callbacks=callback,\n",
        "                        validation_data=(sub_val_orig, tf.cast(val_ab, 'float32')))"
      ],
      "metadata": {
        "colab": {
          "base_uri": "https://localhost:8080/",
          "height": 600
        },
        "id": "qQqOr9sZpe4p",
        "outputId": "c44f5a25-2189-43ea-82e6-f8fe949135bd"
      },
      "execution_count": null,
      "outputs": [
        {
          "output_type": "stream",
          "name": "stdout",
          "text": [
            "Epoch 1/64\n",
            "51/51 [==============================] - 27s 286ms/step - loss: 0.9625 - precision: 0.0169 - recall: 0.5913 - mean_io_u: 0.4924 - val_loss: 0.9562 - val_precision: 0.0186 - val_recall: 0.9393 - val_mean_io_u: 0.4916\n",
            "Epoch 2/64\n",
            "51/51 [==============================] - 13s 257ms/step - loss: 0.9545 - precision: 0.0223 - recall: 0.7398 - mean_io_u: 0.4924 - val_loss: 0.9491 - val_precision: 0.1135 - val_recall: 0.0055 - val_mean_io_u: 0.4916\n",
            "Epoch 3/64\n",
            "51/51 [==============================] - 13s 257ms/step - loss: 0.9335 - precision: 0.0369 - recall: 0.8094 - mean_io_u: 0.4924 - val_loss: 0.9435 - val_precision: 0.0250 - val_recall: 0.8499 - val_mean_io_u: 0.4916\n",
            "Epoch 4/64\n",
            "51/51 [==============================] - 13s 247ms/step - loss: 0.9099 - precision: 0.0558 - recall: 0.8766 - mean_io_u: 0.4924 - val_loss: 0.9543 - val_precision: 0.0190 - val_recall: 0.9948 - val_mean_io_u: 0.4913\n",
            "Epoch 5/64\n",
            "51/51 [==============================] - 13s 247ms/step - loss: 0.8845 - precision: 0.0763 - recall: 0.9151 - mean_io_u: 0.4925 - val_loss: 0.9533 - val_precision: 0.0195 - val_recall: 0.9927 - val_mean_io_u: 0.4916\n",
            "Epoch 6/64\n",
            "45/51 [=========================>....] - ETA: 1s - loss: 0.8700 - precision: 0.0915 - recall: 0.9350 - mean_io_u: 0.4963"
          ]
        },
        {
          "output_type": "error",
          "ename": "KeyboardInterrupt",
          "evalue": "ignored",
          "traceback": [
            "\u001b[0;31m---------------------------------------------------------------------------\u001b[0m",
            "\u001b[0;31mKeyboardInterrupt\u001b[0m                         Traceback (most recent call last)",
            "\u001b[0;32m<ipython-input-28-60ab2abbc68d>\u001b[0m in \u001b[0;36m<module>\u001b[0;34m()\u001b[0m\n\u001b[1;32m     16\u001b[0m                         \u001b[0mbatch_size\u001b[0m\u001b[0;34m=\u001b[0m\u001b[0;36m32\u001b[0m\u001b[0;34m,\u001b[0m\u001b[0;34m\u001b[0m\u001b[0;34m\u001b[0m\u001b[0m\n\u001b[1;32m     17\u001b[0m                         \u001b[0mcallbacks\u001b[0m\u001b[0;34m=\u001b[0m\u001b[0mcallback\u001b[0m\u001b[0;34m,\u001b[0m\u001b[0;34m\u001b[0m\u001b[0;34m\u001b[0m\u001b[0m\n\u001b[0;32m---> 18\u001b[0;31m                         validation_data=(sub_val_orig, tf.cast(val_ab, 'float32')))\n\u001b[0m",
            "\u001b[0;32m/usr/local/lib/python3.7/dist-packages/keras/utils/traceback_utils.py\u001b[0m in \u001b[0;36merror_handler\u001b[0;34m(*args, **kwargs)\u001b[0m\n\u001b[1;32m     62\u001b[0m     \u001b[0mfiltered_tb\u001b[0m \u001b[0;34m=\u001b[0m \u001b[0;32mNone\u001b[0m\u001b[0;34m\u001b[0m\u001b[0;34m\u001b[0m\u001b[0m\n\u001b[1;32m     63\u001b[0m     \u001b[0;32mtry\u001b[0m\u001b[0;34m:\u001b[0m\u001b[0;34m\u001b[0m\u001b[0;34m\u001b[0m\u001b[0m\n\u001b[0;32m---> 64\u001b[0;31m       \u001b[0;32mreturn\u001b[0m \u001b[0mfn\u001b[0m\u001b[0;34m(\u001b[0m\u001b[0;34m*\u001b[0m\u001b[0margs\u001b[0m\u001b[0;34m,\u001b[0m \u001b[0;34m**\u001b[0m\u001b[0mkwargs\u001b[0m\u001b[0;34m)\u001b[0m\u001b[0;34m\u001b[0m\u001b[0;34m\u001b[0m\u001b[0m\n\u001b[0m\u001b[1;32m     65\u001b[0m     \u001b[0;32mexcept\u001b[0m \u001b[0mException\u001b[0m \u001b[0;32mas\u001b[0m \u001b[0me\u001b[0m\u001b[0;34m:\u001b[0m  \u001b[0;31m# pylint: disable=broad-except\u001b[0m\u001b[0;34m\u001b[0m\u001b[0;34m\u001b[0m\u001b[0m\n\u001b[1;32m     66\u001b[0m       \u001b[0mfiltered_tb\u001b[0m \u001b[0;34m=\u001b[0m \u001b[0m_process_traceback_frames\u001b[0m\u001b[0;34m(\u001b[0m\u001b[0me\u001b[0m\u001b[0;34m.\u001b[0m\u001b[0m__traceback__\u001b[0m\u001b[0;34m)\u001b[0m\u001b[0;34m\u001b[0m\u001b[0;34m\u001b[0m\u001b[0m\n",
            "\u001b[0;32m/usr/local/lib/python3.7/dist-packages/keras/engine/training.py\u001b[0m in \u001b[0;36mfit\u001b[0;34m(self, x, y, batch_size, epochs, verbose, callbacks, validation_split, validation_data, shuffle, class_weight, sample_weight, initial_epoch, steps_per_epoch, validation_steps, validation_batch_size, validation_freq, max_queue_size, workers, use_multiprocessing)\u001b[0m\n\u001b[1;32m   1382\u001b[0m                 _r=1):\n\u001b[1;32m   1383\u001b[0m               \u001b[0mcallbacks\u001b[0m\u001b[0;34m.\u001b[0m\u001b[0mon_train_batch_begin\u001b[0m\u001b[0;34m(\u001b[0m\u001b[0mstep\u001b[0m\u001b[0;34m)\u001b[0m\u001b[0;34m\u001b[0m\u001b[0;34m\u001b[0m\u001b[0m\n\u001b[0;32m-> 1384\u001b[0;31m               \u001b[0mtmp_logs\u001b[0m \u001b[0;34m=\u001b[0m \u001b[0mself\u001b[0m\u001b[0;34m.\u001b[0m\u001b[0mtrain_function\u001b[0m\u001b[0;34m(\u001b[0m\u001b[0miterator\u001b[0m\u001b[0;34m)\u001b[0m\u001b[0;34m\u001b[0m\u001b[0;34m\u001b[0m\u001b[0m\n\u001b[0m\u001b[1;32m   1385\u001b[0m               \u001b[0;32mif\u001b[0m \u001b[0mdata_handler\u001b[0m\u001b[0;34m.\u001b[0m\u001b[0mshould_sync\u001b[0m\u001b[0;34m:\u001b[0m\u001b[0;34m\u001b[0m\u001b[0;34m\u001b[0m\u001b[0m\n\u001b[1;32m   1386\u001b[0m                 \u001b[0mcontext\u001b[0m\u001b[0;34m.\u001b[0m\u001b[0masync_wait\u001b[0m\u001b[0;34m(\u001b[0m\u001b[0;34m)\u001b[0m\u001b[0;34m\u001b[0m\u001b[0;34m\u001b[0m\u001b[0m\n",
            "\u001b[0;32m/usr/local/lib/python3.7/dist-packages/tensorflow/python/util/traceback_utils.py\u001b[0m in \u001b[0;36merror_handler\u001b[0;34m(*args, **kwargs)\u001b[0m\n\u001b[1;32m    148\u001b[0m     \u001b[0mfiltered_tb\u001b[0m \u001b[0;34m=\u001b[0m \u001b[0;32mNone\u001b[0m\u001b[0;34m\u001b[0m\u001b[0;34m\u001b[0m\u001b[0m\n\u001b[1;32m    149\u001b[0m     \u001b[0;32mtry\u001b[0m\u001b[0;34m:\u001b[0m\u001b[0;34m\u001b[0m\u001b[0;34m\u001b[0m\u001b[0m\n\u001b[0;32m--> 150\u001b[0;31m       \u001b[0;32mreturn\u001b[0m \u001b[0mfn\u001b[0m\u001b[0;34m(\u001b[0m\u001b[0;34m*\u001b[0m\u001b[0margs\u001b[0m\u001b[0;34m,\u001b[0m \u001b[0;34m**\u001b[0m\u001b[0mkwargs\u001b[0m\u001b[0;34m)\u001b[0m\u001b[0;34m\u001b[0m\u001b[0;34m\u001b[0m\u001b[0m\n\u001b[0m\u001b[1;32m    151\u001b[0m     \u001b[0;32mexcept\u001b[0m \u001b[0mException\u001b[0m \u001b[0;32mas\u001b[0m \u001b[0me\u001b[0m\u001b[0;34m:\u001b[0m\u001b[0;34m\u001b[0m\u001b[0;34m\u001b[0m\u001b[0m\n\u001b[1;32m    152\u001b[0m       \u001b[0mfiltered_tb\u001b[0m \u001b[0;34m=\u001b[0m \u001b[0m_process_traceback_frames\u001b[0m\u001b[0;34m(\u001b[0m\u001b[0me\u001b[0m\u001b[0;34m.\u001b[0m\u001b[0m__traceback__\u001b[0m\u001b[0;34m)\u001b[0m\u001b[0;34m\u001b[0m\u001b[0;34m\u001b[0m\u001b[0m\n",
            "\u001b[0;32m/usr/local/lib/python3.7/dist-packages/tensorflow/python/eager/def_function.py\u001b[0m in \u001b[0;36m__call__\u001b[0;34m(self, *args, **kwds)\u001b[0m\n\u001b[1;32m    913\u001b[0m \u001b[0;34m\u001b[0m\u001b[0m\n\u001b[1;32m    914\u001b[0m       \u001b[0;32mwith\u001b[0m \u001b[0mOptionalXlaContext\u001b[0m\u001b[0;34m(\u001b[0m\u001b[0mself\u001b[0m\u001b[0;34m.\u001b[0m\u001b[0m_jit_compile\u001b[0m\u001b[0;34m)\u001b[0m\u001b[0;34m:\u001b[0m\u001b[0;34m\u001b[0m\u001b[0;34m\u001b[0m\u001b[0m\n\u001b[0;32m--> 915\u001b[0;31m         \u001b[0mresult\u001b[0m \u001b[0;34m=\u001b[0m \u001b[0mself\u001b[0m\u001b[0;34m.\u001b[0m\u001b[0m_call\u001b[0m\u001b[0;34m(\u001b[0m\u001b[0;34m*\u001b[0m\u001b[0margs\u001b[0m\u001b[0;34m,\u001b[0m \u001b[0;34m**\u001b[0m\u001b[0mkwds\u001b[0m\u001b[0;34m)\u001b[0m\u001b[0;34m\u001b[0m\u001b[0;34m\u001b[0m\u001b[0m\n\u001b[0m\u001b[1;32m    916\u001b[0m \u001b[0;34m\u001b[0m\u001b[0m\n\u001b[1;32m    917\u001b[0m       \u001b[0mnew_tracing_count\u001b[0m \u001b[0;34m=\u001b[0m \u001b[0mself\u001b[0m\u001b[0;34m.\u001b[0m\u001b[0mexperimental_get_tracing_count\u001b[0m\u001b[0;34m(\u001b[0m\u001b[0;34m)\u001b[0m\u001b[0;34m\u001b[0m\u001b[0;34m\u001b[0m\u001b[0m\n",
            "\u001b[0;32m/usr/local/lib/python3.7/dist-packages/tensorflow/python/eager/def_function.py\u001b[0m in \u001b[0;36m_call\u001b[0;34m(self, *args, **kwds)\u001b[0m\n\u001b[1;32m    945\u001b[0m       \u001b[0;31m# In this case we have created variables on the first call, so we run the\u001b[0m\u001b[0;34m\u001b[0m\u001b[0;34m\u001b[0m\u001b[0;34m\u001b[0m\u001b[0m\n\u001b[1;32m    946\u001b[0m       \u001b[0;31m# defunned version which is guaranteed to never create variables.\u001b[0m\u001b[0;34m\u001b[0m\u001b[0;34m\u001b[0m\u001b[0;34m\u001b[0m\u001b[0m\n\u001b[0;32m--> 947\u001b[0;31m       \u001b[0;32mreturn\u001b[0m \u001b[0mself\u001b[0m\u001b[0;34m.\u001b[0m\u001b[0m_stateless_fn\u001b[0m\u001b[0;34m(\u001b[0m\u001b[0;34m*\u001b[0m\u001b[0margs\u001b[0m\u001b[0;34m,\u001b[0m \u001b[0;34m**\u001b[0m\u001b[0mkwds\u001b[0m\u001b[0;34m)\u001b[0m  \u001b[0;31m# pylint: disable=not-callable\u001b[0m\u001b[0;34m\u001b[0m\u001b[0;34m\u001b[0m\u001b[0m\n\u001b[0m\u001b[1;32m    948\u001b[0m     \u001b[0;32melif\u001b[0m \u001b[0mself\u001b[0m\u001b[0;34m.\u001b[0m\u001b[0m_stateful_fn\u001b[0m \u001b[0;32mis\u001b[0m \u001b[0;32mnot\u001b[0m \u001b[0;32mNone\u001b[0m\u001b[0;34m:\u001b[0m\u001b[0;34m\u001b[0m\u001b[0;34m\u001b[0m\u001b[0m\n\u001b[1;32m    949\u001b[0m       \u001b[0;31m# Release the lock early so that multiple threads can perform the call\u001b[0m\u001b[0;34m\u001b[0m\u001b[0;34m\u001b[0m\u001b[0;34m\u001b[0m\u001b[0m\n",
            "\u001b[0;32m/usr/local/lib/python3.7/dist-packages/tensorflow/python/eager/function.py\u001b[0m in \u001b[0;36m__call__\u001b[0;34m(self, *args, **kwargs)\u001b[0m\n\u001b[1;32m   2955\u001b[0m        filtered_flat_args) = self._maybe_define_function(args, kwargs)\n\u001b[1;32m   2956\u001b[0m     return graph_function._call_flat(\n\u001b[0;32m-> 2957\u001b[0;31m         filtered_flat_args, captured_inputs=graph_function.captured_inputs)  # pylint: disable=protected-access\n\u001b[0m\u001b[1;32m   2958\u001b[0m \u001b[0;34m\u001b[0m\u001b[0m\n\u001b[1;32m   2959\u001b[0m   \u001b[0;34m@\u001b[0m\u001b[0mproperty\u001b[0m\u001b[0;34m\u001b[0m\u001b[0;34m\u001b[0m\u001b[0m\n",
            "\u001b[0;32m/usr/local/lib/python3.7/dist-packages/tensorflow/python/eager/function.py\u001b[0m in \u001b[0;36m_call_flat\u001b[0;34m(self, args, captured_inputs, cancellation_manager)\u001b[0m\n\u001b[1;32m   1852\u001b[0m       \u001b[0;31m# No tape is watching; skip to running the function.\u001b[0m\u001b[0;34m\u001b[0m\u001b[0;34m\u001b[0m\u001b[0;34m\u001b[0m\u001b[0m\n\u001b[1;32m   1853\u001b[0m       return self._build_call_outputs(self._inference_function.call(\n\u001b[0;32m-> 1854\u001b[0;31m           ctx, args, cancellation_manager=cancellation_manager))\n\u001b[0m\u001b[1;32m   1855\u001b[0m     forward_backward = self._select_forward_and_backward_functions(\n\u001b[1;32m   1856\u001b[0m         \u001b[0margs\u001b[0m\u001b[0;34m,\u001b[0m\u001b[0;34m\u001b[0m\u001b[0;34m\u001b[0m\u001b[0m\n",
            "\u001b[0;32m/usr/local/lib/python3.7/dist-packages/tensorflow/python/eager/function.py\u001b[0m in \u001b[0;36mcall\u001b[0;34m(self, ctx, args, cancellation_manager)\u001b[0m\n\u001b[1;32m    502\u001b[0m               \u001b[0minputs\u001b[0m\u001b[0;34m=\u001b[0m\u001b[0margs\u001b[0m\u001b[0;34m,\u001b[0m\u001b[0;34m\u001b[0m\u001b[0;34m\u001b[0m\u001b[0m\n\u001b[1;32m    503\u001b[0m               \u001b[0mattrs\u001b[0m\u001b[0;34m=\u001b[0m\u001b[0mattrs\u001b[0m\u001b[0;34m,\u001b[0m\u001b[0;34m\u001b[0m\u001b[0;34m\u001b[0m\u001b[0m\n\u001b[0;32m--> 504\u001b[0;31m               ctx=ctx)\n\u001b[0m\u001b[1;32m    505\u001b[0m         \u001b[0;32melse\u001b[0m\u001b[0;34m:\u001b[0m\u001b[0;34m\u001b[0m\u001b[0;34m\u001b[0m\u001b[0m\n\u001b[1;32m    506\u001b[0m           outputs = execute.execute_with_cancellation(\n",
            "\u001b[0;32m/usr/local/lib/python3.7/dist-packages/tensorflow/python/eager/execute.py\u001b[0m in \u001b[0;36mquick_execute\u001b[0;34m(op_name, num_outputs, inputs, attrs, ctx, name)\u001b[0m\n\u001b[1;32m     53\u001b[0m     \u001b[0mctx\u001b[0m\u001b[0;34m.\u001b[0m\u001b[0mensure_initialized\u001b[0m\u001b[0;34m(\u001b[0m\u001b[0;34m)\u001b[0m\u001b[0;34m\u001b[0m\u001b[0;34m\u001b[0m\u001b[0m\n\u001b[1;32m     54\u001b[0m     tensors = pywrap_tfe.TFE_Py_Execute(ctx._handle, device_name, op_name,\n\u001b[0;32m---> 55\u001b[0;31m                                         inputs, attrs, num_outputs)\n\u001b[0m\u001b[1;32m     56\u001b[0m   \u001b[0;32mexcept\u001b[0m \u001b[0mcore\u001b[0m\u001b[0;34m.\u001b[0m\u001b[0m_NotOkStatusException\u001b[0m \u001b[0;32mas\u001b[0m \u001b[0me\u001b[0m\u001b[0;34m:\u001b[0m\u001b[0;34m\u001b[0m\u001b[0;34m\u001b[0m\u001b[0m\n\u001b[1;32m     57\u001b[0m     \u001b[0;32mif\u001b[0m \u001b[0mname\u001b[0m \u001b[0;32mis\u001b[0m \u001b[0;32mnot\u001b[0m \u001b[0;32mNone\u001b[0m\u001b[0;34m:\u001b[0m\u001b[0;34m\u001b[0m\u001b[0;34m\u001b[0m\u001b[0m\n",
            "\u001b[0;31mKeyboardInterrupt\u001b[0m: "
          ]
        }
      ]
    },
    {
      "cell_type": "code",
      "source": [
        "array_to_img(model_ab.predict(sub_val_orig)[2])"
      ],
      "metadata": {
        "colab": {
          "base_uri": "https://localhost:8080/",
          "height": 273
        },
        "id": "oxQj3LUNUEm5",
        "outputId": "a45dd3ae-6f05-469e-c9f3-230e8b09ce74"
      },
      "execution_count": null,
      "outputs": [
        {
          "output_type": "execute_result",
          "data": {
            "text/plain": [
              "<PIL.Image.Image image mode=L size=256x256 at 0x7FCB72EBF490>"
            ],
            "image/png": "[encoded data removed]"
          },
          "metadata": {},
          "execution_count": 30
        }
      ]
    },
    {
      "cell_type": "code",
      "source": [
        "array_to_img(val_ab[2])"
      ],
      "metadata": {
        "colab": {
          "base_uri": "https://localhost:8080/",
          "height": 273
        },
        "id": "2PBcWpOULp4a",
        "outputId": "15954aaa-8149-4ce9-c913-0dca020e54af"
      },
      "execution_count": null,
      "outputs": [
        {
          "output_type": "execute_result",
          "data": {
            "text/plain": [
              "<PIL.Image.Image image mode=L size=256x256 at 0x7FCAE16E0E50>"
            ],
            "image/png": "[encoded data removed]"
          },
          "metadata": {},
          "execution_count": 29
        }
      ]
    }
  ]
}