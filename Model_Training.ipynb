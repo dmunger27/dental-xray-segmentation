{
  "nbformat": 4,
  "nbformat_minor": 0,
  "metadata": {
    "colab": {
      "name": "Model Training.ipynb",
      "provenance": [],
      "collapsed_sections": [],
      "machine_shape": "hm",
      "include_colab_link": true
    },
    "kernelspec": {
      "name": "python3",
      "display_name": "Python 3"
    },
    "language_info": {
      "name": "python"
    },
    "accelerator": "GPU",
    "gpuClass": "standard"
  },
  "cells": [
    {
      "cell_type": "markdown",
      "metadata": {
        "id": "view-in-github",
        "colab_type": "text"
      },
      "source": [
        "<a href=\"https://colab.research.google.com/github/dmunger27/dental-xray-segmentation/blob/main/Model_Training.ipynb\" target=\"_parent\"><img src=\"https://colab.research.google.com/assets/colab-badge.svg\" alt=\"Open In Colab\"/></a>"
      ]
    },
    {
      "cell_type": "code",
      "source": [
        "!pip install cloudpathlib\n",
        "!pip install boto3\n",
        "!pip install tensorflow\n",
        "!pip install pillow\n",
        "!pip install opencv-python\n",
        "!pip install focal_loss\n",
        "!pip install albumentations"
      ],
      "metadata": {
        "id": "bwelTz_0CtDg"
      },
      "execution_count": null,
      "outputs": []
    },
    {
      "cell_type": "code",
      "source": [
        "import os\n",
        "import shutil\n",
        "import pandas as pd\n",
        "import numpy as np\n",
        "from cloudpathlib import CloudPath\n",
        "from cloudpathlib import S3Client\n",
        "from cloudpathlib import S3Path\n",
        "import matplotlib.pyplot as plt\n",
        "import boto3\n",
        "import glob\n",
        "import PIL\n",
        "from tensorflow import keras\n",
        "import tensorflow as tf\n",
        "from tensorflow.keras import layers\n",
        "from tensorflow.keras.utils import load_img, img_to_array, array_to_img\n",
        "from focal_loss import BinaryFocalLoss\n",
        "from sklearn.model_selection import train_test_split\n",
        "import albumentations as A\n",
        "import random\n",
        "from keras import backend as K\n",
        "from keras.constraints import max_norm\n"
      ],
      "metadata": {
        "id": "DE3TmI6kClTq"
      },
      "execution_count": 27,
      "outputs": []
    },
    {
      "cell_type": "code",
      "source": [
        "# Set environment variables\n",
        "key_data = pd.read_csv('rootkey.csv')\n",
        "#os.environ['AWS_ACCESS_KEY'] = ''\n",
        "#os.environ['AWS_SECRET_KEY'] = ''"
      ],
      "metadata": {
        "id": "Ne1HQcgPCwWu"
      },
      "execution_count": 3,
      "outputs": []
    },
    {
      "cell_type": "markdown",
      "source": [
        "## Load and Prepare Data"
      ],
      "metadata": {
        "id": "bWNI61tb-Lmz"
      }
    },
    {
      "cell_type": "code",
      "source": [
        "# Create files in local storage for x-ray data\n",
        "\n",
        "def gatherS3Data(s3_path, folder_name):\n",
        "  s3_client = S3Client(aws_access_key_id=os.getenv('AWS_ACCESS_KEY'), aws_secret_access_key=os.getenv('AWS_SECRET_KEY'))\n",
        "  x_rays_images = s3_client.CloudPath(s3_path)\n",
        "  x_rays_images.download_to(folder_name)\n",
        "\n",
        "gatherS3Data('s3://ads-599-capstone-data/ads-599-team7/cleaned_abnormalities/', 'abnormality_masks')\n",
        "gatherS3Data('s3://ads-599-capstone-data/ads-599-team7/cleaned_original/', 'original_images')\n",
        "gatherS3Data('s3://ads-599-capstone-data/ads-599-team7/cleaned_teeth/', 'teeth_masks')"
      ],
      "metadata": {
        "id": "KV9GqGW2Cy3B"
      },
      "execution_count": 4,
      "outputs": []
    },
    {
      "cell_type": "code",
      "source": [
        "# Load and prepare the data\n",
        "img_size = (256, 256)\n",
        "def load_prep(directory, dim, dtype, color_mode):\n",
        "  data = sorted(glob.glob(directory + '/*'))\n",
        "  num_imgs = len(data)\n",
        "  img_size = (256, 256)\n",
        "  model_imgs = np.zeros((num_imgs,) + img_size + (dim,), dtype=dtype)\n",
        "  for i in range(num_imgs):\n",
        "    if color_mode=='grayscale':\n",
        "      img = load_img(data[i], color_mode=color_mode, target_size=img_size)\n",
        "      img = img.crop((30, 50, 230, 220))\n",
        "      img = img.resize((256, 256))\n",
        "      model_imgs[i] = img_to_array(img) > 100\n",
        "      model_imgs[i] = model_imgs[i].astype('uint8')\n",
        "    else:\n",
        "      img = load_img(data[i], color_mode=color_mode, target_size=img_size)\n",
        "      img = img.crop((30, 50, 230, 220))\n",
        "      img = img.resize((256, 256))\n",
        "      model_imgs[i] = img_to_array(img)\n",
        "  return model_imgs\n",
        "\n",
        "original = load_prep('original_images', 3, 'float32', 'rgb')\n",
        "teeth = load_prep('teeth_masks', 1, 'uint8', 'grayscale')\n",
        "abnormality = load_prep('abnormality_masks', 1, 'uint8', 'grayscale')"
      ],
      "metadata": {
        "id": "bw0It3ZCOnxL"
      },
      "execution_count": 5,
      "outputs": []
    },
    {
      "cell_type": "code",
      "source": [
        "# Filter abnormalities to include only visible masks\n",
        "def subset_abnormalities(ab_list):\n",
        "  filtered = []\n",
        "  for i in range(len(ab_list)):\n",
        "    if np.sum(ab_list[i]) > 0:\n",
        "      filtered.append(i)\n",
        "  return filtered\n",
        "\n",
        "subset_list = subset_abnormalities(abnormality)\n",
        "ab_subset = [abnormality[i] for i in subset_list]\n",
        "orig_subset = [original[i] for i in subset_list]\n",
        "num_imgs = len(subset_list)\n",
        "img_size = (256, 256)\n",
        "ab_subset_imgs = np.zeros((num_imgs,) + img_size + (1,), dtype='uint8')\n",
        "orig_subset_imgs = np.zeros((num_imgs,) + img_size + (3,), dtype='float32')\n",
        "for i in range(num_imgs):\n",
        "  ab_subset_imgs[i] = ab_subset[i]\n",
        "  orig_subset_imgs[i] = orig_subset[i]"
      ],
      "metadata": {
        "id": "W0at7VgQZG8x"
      },
      "execution_count": 6,
      "outputs": []
    },
    {
      "cell_type": "code",
      "source": [
        "# Add new observations using augmentations\n",
        "# Set augmentations\n",
        "distort = A.GridDistortion(p=1)\n",
        "elastic_trans = A.ElasticTransform(p=1)\n",
        "hflip = A.HorizontalFlip(p=1)\n",
        "aflip = A.VerticalFlip(p=1)\n",
        "transpose = A.Transpose(p=1)\n",
        "r90 = A.RandomRotate90(p=1)\n",
        "\n",
        "augmentation_list = [distort, elastic_trans, hflip, aflip, transpose, r90]\n",
        "\n",
        "# Apply transformation and append to original dataset\n",
        "def transform_and_create(originals, abnormalities, augmentation):\n",
        "  img_size = (256,256)\n",
        "  ab_aug = np.zeros((num_imgs,) + img_size + (1,), dtype='uint8')\n",
        "  orig_aug = np.zeros((num_imgs,) + img_size + (3,), dtype='float32')\n",
        "  for i in range(num_imgs):\n",
        "    augmented = augmentation(image=originals[i], mask=abnormalities[i])\n",
        "    image_aug = augmented['image']\n",
        "    mask_aug = augmented['mask']\n",
        "    ab_aug[i] = mask_aug\n",
        "    orig_aug[i] = image_aug \n",
        "\n",
        "  return ab_aug, orig_aug\n",
        "\n",
        "def append_transform(augmentation_list):\n",
        "  original_list = [orig_subset_imgs]\n",
        "  ab_list = [ab_subset_imgs]\n",
        "  for i in augmentation_list:\n",
        "    aug_abnormality, aug_original = transform_and_create(orig_subset_imgs, ab_subset_imgs, i)\n",
        "    original_list.append(aug_original)\n",
        "    ab_list.append(aug_abnormality)\n",
        "  originals = np.concatenate(original_list, axis=0)\n",
        "  abs = np.concatenate(ab_list, axis=0)\n",
        "\n",
        "  return originals, abs\n",
        "\n",
        "\n",
        "orig_subset_imgs, ab_subset_imgs = append_transform(augmentation_list)"
      ],
      "metadata": {
        "id": "vKvgGFIgSAq7"
      },
      "execution_count": 7,
      "outputs": []
    },
    {
      "cell_type": "code",
      "execution_count": 201,
      "metadata": {
        "id": "Og4rpc99CThx"
      },
      "outputs": [],
      "source": [
        "# Train-test-valid split of data\n",
        "def train_valid_test(array_name, test_size=0.1, val_size=0.1, random_state=27):\n",
        "  train, test = train_test_split(array_name, test_size=test_size, random_state=random_state)\n",
        "  # Train test split again to obtain validation set\n",
        "  train, val = train_test_split(train, test_size=val_size, random_state=random_state)\n",
        "  return train, val, test\n",
        "\n",
        "\n",
        "train_orig, val_orig, test_orig = train_valid_test(original, 0.1, 0.3, 127)\n",
        "train_teeth, val_teeth, test_teeth = train_valid_test(teeth, 0.1, 0.3, 127)\n",
        "train_ab, val_ab, test_ab = train_valid_test(ab_subset_imgs, 0.1, 0.3, 127)\n",
        "\n",
        "# Subset train and valid\n",
        "sub_train_orig, sub_val_orig, sub_test_orig = train_valid_test(orig_subset_imgs, 0.1, 0.3, 127)"
      ]
    },
    {
      "cell_type": "markdown",
      "source": [
        "## Model Setup"
      ],
      "metadata": {
        "id": "SfzBncgl-U7G"
      }
    },
    {
      "cell_type": "code",
      "source": [
        "# Create up block function\n",
        "def up_block(neurons, concat_layer, input, kernel_constraint=None, bias_constraint=None):\n",
        "  up = layers.Conv2DTranspose(neurons, (2,2), strides=(2,2), activation='relu', kernel_initializer='he_normal', padding='same')(input)\n",
        "  up = layers.concatenate([up, concat_layer])\n",
        "  conv = layers.Conv2D(neurons, (3,3), activation='relu', kernel_initializer='he_normal', padding='same', kernel_constraint=kernel_constraint, bias_constraint=bias_constraint)(up)\n",
        "  conv = layers.Conv2D(neurons, (3,3), activation='relu', kernel_initializer='he_normal', padding='same', kernel_constraint=kernel_constraint, bias_constraint=bias_constraint)(conv)\n",
        "  conv = layers.BatchNormalization()(conv)\n",
        "  return conv"
      ],
      "metadata": {
        "id": "N55PHoblUe5E"
      },
      "execution_count": 195,
      "outputs": []
    },
    {
      "cell_type": "code",
      "source": [
        "keras.backend.clear_session()\n",
        "# Base model\n",
        "inputs = keras.Input(shape=(256,256) + (3,))\n",
        "x = layers.Rescaling(1./255)(inputs)\n",
        "base = keras.applications.ResNet50V2(\n",
        "      include_top=False,\n",
        "      weights=\"imagenet\",\n",
        "      input_shape=(256,256) + (3,),\n",
        "      input_tensor=x\n",
        "  )\n",
        "base.trainable = False"
      ],
      "metadata": {
        "id": "OwgUJRM7KxLP"
      },
      "execution_count": 212,
      "outputs": []
    },
    {
      "cell_type": "markdown",
      "source": [
        "## Teeth Model"
      ],
      "metadata": {
        "id": "wnQ7cfhO-F81"
      }
    },
    {
      "cell_type": "code",
      "source": [
        "# Set up functions to calculate Focal Tversky Loss\n",
        "def dice_coef(y_true, y_pred, smooth=1):\n",
        "    y_true_f = K.flatten(y_true)\n",
        "    y_pred_f = K.flatten(y_pred)\n",
        "    intersection = K.sum(y_true_f * y_pred_f)\n",
        "    dice_coef = (2. * intersection + smooth) / (K.sum(y_true_f) + K.sum(y_pred_f) + smooth)\n",
        "    return dice_coef\n",
        "\n",
        "\n",
        "def dice_coef_loss(y_true, y_pred):\n",
        "    loss = 1 - dice_coef(y_true, y_pred)\n",
        "    return loss\n",
        "\n",
        "\n",
        "def tversky(y_true, y_pred, smooth=1, alpha=0.7):\n",
        "    y_true_pos = K.flatten(y_true)\n",
        "    y_pred_pos = K.flatten(y_pred)\n",
        "    true_pos = K.sum(y_true_pos * y_pred_pos)\n",
        "    false_neg = K.sum(y_true_pos * (1 - y_pred_pos))\n",
        "    false_pos = K.sum((1 - y_true_pos) * y_pred_pos)\n",
        "    tversky = (true_pos + smooth) / (true_pos + alpha * false_neg + (1 - alpha) * false_pos + smooth)\n",
        "    return tversky\n",
        "\n",
        "\n",
        "def tversky_loss(y_true, y_pred):\n",
        "    tversky_loss = 1 - tversky(y_true, y_pred)\n",
        "    return \n",
        "\n",
        "\n",
        "def focal_tversky_loss(y_true, y_pred, gamma=0.75):\n",
        "    tv = tversky(y_true, y_pred)\n",
        "    focal_tv_loss = K.pow((1 - tv), gamma)\n",
        "    return focal_tv_loss"
      ],
      "metadata": {
        "id": "2UxFo0s7APv2"
      },
      "execution_count": 203,
      "outputs": []
    },
    {
      "cell_type": "code",
      "source": [
        "#  Function for U-Net model\n",
        "def unet_model(dropout):\n",
        "  # Extract decoder path\n",
        "  down0 = base.get_layer('input_1').output\n",
        "  down1 = base.get_layer('conv1_conv').output\n",
        "  down2 = base.get_layer('conv2_block3_1_relu').output\n",
        "  down3 = base.get_layer('conv3_block4_1_relu').output\n",
        "  x = base.get_layer('conv4_block6_1_relu').output \n",
        "  conv6 = up_block(512, down3, x)\n",
        "  layers.Dropout(dropout)(conv6)\n",
        "  conv7 = up_block(256, down2, conv6)\n",
        "  layers.Dropout(dropout)(conv7)\n",
        "  conv8 = up_block(128, down1, conv7)\n",
        "  layers.Dropout(dropout)(conv8)\n",
        "  conv9 = up_block(64, down0, conv8)\n",
        "  layers.Dropout(dropout)(conv9)\n",
        "  outputs = layers.Conv2D(1, 1, activation='sigmoid', padding='same')(conv9)\n",
        "\n",
        "  model = keras.Model(inputs, outputs)\n",
        "  return model"
      ],
      "metadata": {
        "id": "Tc-HtaJPEXOp"
      },
      "execution_count": 215,
      "outputs": []
    },
    {
      "cell_type": "code",
      "source": [
        "# Get model structure and print the summary\n",
        "model = unet_model(0.5)\n",
        "#model.summary()"
      ],
      "metadata": {
        "id": "yJNKCKvyL4Wx"
      },
      "execution_count": 218,
      "outputs": []
    },
    {
      "cell_type": "code",
      "source": [
        "# Compile and train the model for tooth detection\n",
        "#keras.backend.clear_session()\n",
        "base.trainable = True\n",
        "opt = keras.optimizers.Adam(learning_rate=0.00001)\n",
        "model.compile(optimizer=opt, loss=focal_tversky_loss, metrics=[keras.metrics.Precision(), keras.metrics.Recall(), keras.metrics.MeanIoU(num_classes=2)])\n",
        "# Save best model\n",
        "callback = [\n",
        "    keras.callbacks.ModelCheckpoint(\"teeth_segmentation.keras\", \n",
        "                                    save_best_only=True),\n",
        "    keras.callbacks.EarlyStopping(monitor=\"val_loss\",\n",
        "                                  patience=10)\n",
        "]\n",
        "\n",
        "teeth_model = model.fit(train_orig, tf.cast(train_teeth, 'float32'),\n",
        "                        epochs=64,\n",
        "                        callbacks=callback,\n",
        "                        batch_size=32,\n",
        "                        validation_data=(val_orig, tf.cast(val_teeth, 'float32')))"
      ],
      "metadata": {
        "id": "yIipWw2eHnOT",
        "colab": {
          "base_uri": "https://localhost:8080/"
        },
        "outputId": "c8b0de82-5439-4052-8b40-e285b4c1b896"
      },
      "execution_count": 221,
      "outputs": [
        {
          "output_type": "stream",
          "name": "stdout",
          "text": [
            "Epoch 1/64\n",
            "20/20 [==============================] - 19s 738ms/step - loss: 0.1574 - precision_4: 0.8331 - recall_4: 0.9554 - mean_io_u_4: 0.8784 - val_loss: 0.2653 - val_precision_4: 0.6272 - val_recall_4: 0.9628 - val_mean_io_u_4: 0.7489\n",
            "Epoch 2/64\n",
            "20/20 [==============================] - 13s 672ms/step - loss: 0.1454 - precision_4: 0.8546 - recall_4: 0.9571 - mean_io_u_4: 0.8879 - val_loss: 0.2070 - val_precision_4: 0.7367 - val_recall_4: 0.9562 - val_mean_io_u_4: 0.8217\n",
            "Epoch 3/64\n",
            "20/20 [==============================] - 13s 670ms/step - loss: 0.1390 - precision_4: 0.8604 - recall_4: 0.9606 - mean_io_u_4: 0.8928 - val_loss: 0.1783 - val_precision_4: 0.7990 - val_recall_4: 0.9513 - val_mean_io_u_4: 0.8562\n",
            "Epoch 4/64\n",
            "20/20 [==============================] - 13s 671ms/step - loss: 0.1345 - precision_4: 0.8646 - recall_4: 0.9631 - mean_io_u_4: 0.8962 - val_loss: 0.1680 - val_precision_4: 0.8279 - val_recall_4: 0.9465 - val_mean_io_u_4: 0.8684\n",
            "Epoch 5/64\n",
            "20/20 [==============================] - 13s 671ms/step - loss: 0.1302 - precision_4: 0.8715 - recall_4: 0.9638 - mean_io_u_4: 0.8997 - val_loss: 0.1651 - val_precision_4: 0.8409 - val_recall_4: 0.9426 - val_mean_io_u_4: 0.8718\n",
            "Epoch 6/64\n",
            "20/20 [==============================] - 13s 672ms/step - loss: 0.1257 - precision_4: 0.8757 - recall_4: 0.9662 - mean_io_u_4: 0.9032 - val_loss: 0.1638 - val_precision_4: 0.8452 - val_recall_4: 0.9417 - val_mean_io_u_4: 0.8731\n",
            "Epoch 7/64\n",
            "20/20 [==============================] - 13s 671ms/step - loss: 0.1224 - precision_4: 0.8785 - recall_4: 0.9681 - mean_io_u_4: 0.9056 - val_loss: 0.1631 - val_precision_4: 0.8544 - val_recall_4: 0.9377 - val_mean_io_u_4: 0.8746\n",
            "Epoch 8/64\n",
            "20/20 [==============================] - 13s 671ms/step - loss: 0.1185 - precision_4: 0.8823 - recall_4: 0.9701 - mean_io_u_4: 0.9091 - val_loss: 0.1627 - val_precision_4: 0.8558 - val_recall_4: 0.9375 - val_mean_io_u_4: 0.8751\n",
            "Epoch 9/64\n",
            "20/20 [==============================] - 12s 628ms/step - loss: 0.1161 - precision_4: 0.8858 - recall_4: 0.9707 - mean_io_u_4: 0.9106 - val_loss: 0.1628 - val_precision_4: 0.8621 - val_recall_4: 0.9342 - val_mean_io_u_4: 0.8756\n",
            "Epoch 10/64\n",
            "20/20 [==============================] - 12s 628ms/step - loss: 0.1118 - precision_4: 0.8878 - recall_4: 0.9737 - mean_io_u_4: 0.9142 - val_loss: 0.1627 - val_precision_4: 0.8640 - val_recall_4: 0.9333 - val_mean_io_u_4: 0.8757\n",
            "Epoch 11/64\n",
            "20/20 [==============================] - 12s 628ms/step - loss: 0.1091 - precision_4: 0.8926 - recall_4: 0.9739 - mean_io_u_4: 0.9159 - val_loss: 0.1637 - val_precision_4: 0.8692 - val_recall_4: 0.9296 - val_mean_io_u_4: 0.8753\n",
            "Epoch 12/64\n",
            "20/20 [==============================] - 12s 628ms/step - loss: 0.1074 - precision_4: 0.8952 - recall_4: 0.9743 - mean_io_u_4: 0.9169 - val_loss: 0.1633 - val_precision_4: 0.8689 - val_recall_4: 0.9303 - val_mean_io_u_4: 0.8758\n",
            "Epoch 13/64\n",
            "20/20 [==============================] - 12s 628ms/step - loss: 0.1042 - precision_4: 0.8975 - recall_4: 0.9762 - mean_io_u_4: 0.9199 - val_loss: 0.1641 - val_precision_4: 0.8730 - val_recall_4: 0.9274 - val_mean_io_u_4: 0.8754\n",
            "Epoch 14/64\n",
            "20/20 [==============================] - 13s 629ms/step - loss: 0.1016 - precision_4: 0.9016 - recall_4: 0.9764 - mean_io_u_4: 0.9213 - val_loss: 0.1639 - val_precision_4: 0.8725 - val_recall_4: 0.9279 - val_mean_io_u_4: 0.8757\n",
            "Epoch 15/64\n",
            "20/20 [==============================] - 13s 630ms/step - loss: 0.0991 - precision_4: 0.9030 - recall_4: 0.9780 - mean_io_u_4: 0.9233 - val_loss: 0.1639 - val_precision_4: 0.8729 - val_recall_4: 0.9276 - val_mean_io_u_4: 0.8757\n",
            "Epoch 16/64\n",
            "20/20 [==============================] - 13s 629ms/step - loss: 0.0969 - precision_4: 0.9076 - recall_4: 0.9777 - mean_io_u_4: 0.9247 - val_loss: 0.1645 - val_precision_4: 0.8746 - val_recall_4: 0.9262 - val_mean_io_u_4: 0.8753\n",
            "Epoch 17/64\n",
            "20/20 [==============================] - 12s 628ms/step - loss: 0.0962 - precision_4: 0.9070 - recall_4: 0.9790 - mean_io_u_4: 0.9251 - val_loss: 0.1648 - val_precision_4: 0.8744 - val_recall_4: 0.9260 - val_mean_io_u_4: 0.8754\n",
            "Epoch 18/64\n",
            "20/20 [==============================] - 13s 629ms/step - loss: 0.0932 - precision_4: 0.9120 - recall_4: 0.9791 - mean_io_u_4: 0.9272 - val_loss: 0.1642 - val_precision_4: 0.8733 - val_recall_4: 0.9271 - val_mean_io_u_4: 0.8757\n"
          ]
        }
      ]
    },
    {
      "cell_type": "code",
      "source": [
        "# Plot the loss of the model\n",
        "loss = teeth_model.history['loss']\n",
        "val_loss = teeth_model.history['val_loss']\n",
        "\n",
        "plt.figure()\n",
        "plt.plot(teeth_model.epoch, loss, label='Training loss')\n",
        "plt.plot(teeth_model.epoch, val_loss, label='Validation loss')\n",
        "plt.title('Training and Validation Loss')\n",
        "plt.xlabel('Epoch')\n",
        "plt.ylabel('Loss Value')\n",
        "plt.ylim([0, 1])\n",
        "plt.legend()\n",
        "plt.show()"
      ],
      "metadata": {
        "colab": {
          "base_uri": "https://localhost:8080/",
          "height": 295
        },
        "id": "RIZ6n4wZIkaY",
        "outputId": "4119b046-c97e-421a-f7b4-f87469035b9c"
      },
      "execution_count": 222,
      "outputs": [
        {
          "output_type": "display_data",
          "data": {
            "text/plain": [
              "<Figure size 432x288 with 1 Axes>"
            ],
            "image/png": "[encoded data removed]"
          },
          "metadata": {
            "needs_background": "light"
          }
        }
      ]
    },
    {
      "cell_type": "code",
      "source": [
        "# Evaluate model performance on the test set after loading the model\n",
        "teeth_model = keras.models.load_model('teeth_segmentation.keras', custom_objects={'focal_tversky_loss': focal_tversky_loss})\n",
        "test_teeth_model = teeth_model.evaluate(test_orig, tf.cast(test_teeth, 'float32'))"
      ],
      "metadata": {
        "colab": {
          "base_uri": "https://localhost:8080/"
        },
        "id": "x8M-OQVJJWw-",
        "outputId": "b4fe95ba-e404-4b78-b27a-d3d659194e9d"
      },
      "execution_count": 226,
      "outputs": [
        {
          "output_type": "stream",
          "name": "stdout",
          "text": [
            "4/4 [==============================] - 3s 484ms/step - loss: 0.1591 - precision_4: 0.8660 - recall_4: 0.9359 - mean_io_u_4: 0.8750\n"
          ]
        }
      ]
    },
    {
      "cell_type": "markdown",
      "source": [
        "## Abnormality Model"
      ],
      "metadata": {
        "id": "HmxQG_Qq9-Xi"
      }
    },
    {
      "cell_type": "code",
      "source": [
        "def unet_model(dropout):\n",
        "  # Extract decoder path\n",
        "  down0 = base.get_layer('input_1').output\n",
        "  down1 = base.get_layer('conv1_conv').output\n",
        "  down2 = base.get_layer('conv2_block3_1_relu').output\n",
        "  down3 = base.get_layer('conv3_block4_1_relu').output\n",
        "  x = base.get_layer('conv4_block6_1_relu').output \n",
        "  conv6 = up_block(256, down3, x, max_norm(3), max_norm(3))\n",
        "  layers.Dropout(dropout)(conv6)\n",
        "  conv7 = up_block(128, down2, conv6, max_norm(3), max_norm(3))\n",
        "  layers.Dropout(dropout)(conv7)\n",
        "  conv8 = up_block(64, down1, conv7, max_norm(3), max_norm(3))\n",
        "  layers.Dropout(dropout)(conv8)\n",
        "  conv9 = up_block(32, down0, conv8, max_norm(3), max_norm(3))\n",
        "  layers.Dropout(dropout)(conv9)\n",
        "  outputs = layers.Conv2D(1, 1, activation='sigmoid', padding='same')(conv9)\n",
        "\n",
        "  model = keras.Model(inputs, outputs)\n",
        "  return model\n",
        "\n",
        "# Model object for abnormality detection\n",
        "model_ab = unet_model(0.1)"
      ],
      "metadata": {
        "id": "geiZEcFtKbY1"
      },
      "execution_count": 178,
      "outputs": []
    },
    {
      "cell_type": "code",
      "source": [
        "# Compile and train the model for tooth detection\n",
        "#keras.backend.clear_session()\n",
        "base.trainable = True\n",
        "opt = keras.optimizers.Nadam(learning_rate=0.001)\n",
        "model_ab.compile(optimizer=opt, loss=focal_tversky_loss, metrics=[keras.metrics.Precision(), keras.metrics.Recall(), keras.metrics.MeanIoU(num_classes=2)])\n",
        "# Save best model\n",
        "callback = [\n",
        "    keras.callbacks.ModelCheckpoint(\"abnormality_segmentation.keras\", \n",
        "                                    save_best_only=True),\n",
        "    keras.callbacks.EarlyStopping(monitor=\"val_loss\",\n",
        "                                  patience=20)\n",
        "\n",
        "]\n",
        "\n",
        "# Fit the model\n",
        "ab_model = model_ab.fit(sub_train_orig, tf.cast(train_ab, 'float32'),\n",
        "                        epochs=64,\n",
        "                        batch_size=32,\n",
        "                        callbacks=callback,\n",
        "                        validation_data=(sub_val_orig, tf.cast(val_ab, 'float32')))"
      ],
      "metadata": {
        "id": "qQqOr9sZpe4p"
      },
      "execution_count": null,
      "outputs": []
    },
    {
      "cell_type": "code",
      "source": [
        "array_to_img(model_ab.predict(sub_val_orig)[2])"
      ],
      "metadata": {
        "colab": {
          "base_uri": "https://localhost:8080/",
          "height": 273
        },
        "id": "oxQj3LUNUEm5",
        "outputId": "9ee202ef-d610-4ebd-9d50-502af273f8af"
      },
      "execution_count": 141,
      "outputs": [
        {
          "output_type": "execute_result",
          "data": {
            "text/plain": [
              "<PIL.Image.Image image mode=L size=256x256 at 0x7FBC65DCBF50>"
            ],
            "image/png": "[encoded data removed]"
          },
          "metadata": {},
          "execution_count": 141
        }
      ]
    },
    {
      "cell_type": "code",
      "source": [
        "array_to_img(val_ab[2])"
      ],
      "metadata": {
        "colab": {
          "base_uri": "https://localhost:8080/",
          "height": 273
        },
        "id": "2PBcWpOULp4a",
        "outputId": "c5d1cca9-7b71-4659-df35-86ab4434d110"
      },
      "execution_count": 142,
      "outputs": [
        {
          "output_type": "execute_result",
          "data": {
            "text/plain": [
              "<PIL.Image.Image image mode=L size=256x256 at 0x7FBBEC1EAC50>"
            ],
            "image/png": "[encoded data removed]"
          },
          "metadata": {},
          "execution_count": 142
        }
      ]
    }
  ]
}